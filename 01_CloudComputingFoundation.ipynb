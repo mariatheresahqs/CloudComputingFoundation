{
  "nbformat": 4,
  "nbformat_minor": 0,
  "metadata": {
    "colab": {
      "name": "01_CloudComputingFoundation",
      "provenance": [],
      "authorship_tag": "ABX9TyMyxtMiOsUZEtgBXNDAuB7m",
      "include_colab_link": true
    },
    "kernelspec": {
      "name": "python3",
      "display_name": "Python 3"
    },
    "language_info": {
      "name": "python"
    }
  },
  "cells": [
    {
      "cell_type": "markdown",
      "metadata": {
        "id": "view-in-github",
        "colab_type": "text"
      },
      "source": [
        "<a href=\"https://colab.research.google.com/github/mariatheresahqs/CloudComputingFoundation/blob/main/01_CloudComputingFoundation.ipynb\" target=\"_parent\"><img src=\"https://colab.research.google.com/assets/colab-badge.svg\" alt=\"Open In Colab\"/></a>"
      ]
    },
    {
      "cell_type": "markdown",
      "metadata": {
        "id": "ZBFo3ODgGKba"
      },
      "source": [
        "## Just testing"
      ]
    },
    {
      "cell_type": "code",
      "metadata": {
        "colab": {
          "base_uri": "https://localhost:8080/",
          "height": 35
        },
        "id": "K4H3yhSHGO5L",
        "outputId": "eb8f30fe-942d-4439-d1bc-4b7fcedb4d24"
      },
      "source": [
        "def helloWorld():\n",
        "  return \"Hello World!\"\n",
        "helloWorld()\n"
      ],
      "execution_count": 1,
      "outputs": [
        {
          "output_type": "execute_result",
          "data": {
            "application/vnd.google.colaboratory.intrinsic+json": {
              "type": "string"
            },
            "text/plain": [
              "'Hello World!'"
            ]
          },
          "metadata": {},
          "execution_count": 1
        }
      ]
    }
  ]
}